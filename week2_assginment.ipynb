{
 "cells": [
  {
   "cell_type": "code",
   "execution_count": 7,
   "id": "8bbc6658-60c3-4786-acf1-ee4d53b59842",
   "metadata": {},
   "outputs": [],
   "source": [
    "#Question 1\n",
    "#There are two types of comment in the python 1) signle line 2) multiline\n",
    "# 1) single line comment\n",
    "#when we want to write any important information in a single line at that time we can use single line comment\n",
    "\n",
    "#2) multiline comment\n",
    "#when we want to wrtie important information in more than one line we can use multiline comment"
   ]
  },
  {
   "cell_type": "code",
   "execution_count": null,
   "id": "217c4ade-dc0e-4fed-81b8-2a9430a7477a",
   "metadata": {},
   "outputs": [
    {
     "data": {
      "text/plain": [
       "int"
      ]
     },
     "execution_count": 2,
     "metadata": {},
     "output_type": "execute_result"
    }
   ],
   "source": [
    "#Question 3\n",
    "#converting int to float\n",
    "a = 2\n",
    "type(a)"
   ]
  },
  {
   "cell_type": "code",
   "execution_count": 3,
   "id": "fd68816d-43f8-46b5-9eda-fef765a01daa",
   "metadata": {},
   "outputs": [],
   "source": [
    "a = (float)(2)"
   ]
  },
  {
   "cell_type": "code",
   "execution_count": 5,
   "id": "9d5b2c0f-c92a-430d-8179-8bbcb6193a7a",
   "metadata": {},
   "outputs": [
    {
     "data": {
      "text/plain": [
       "float"
      ]
     },
     "execution_count": 5,
     "metadata": {},
     "output_type": "execute_result"
    }
   ],
   "source": [
    "type(a)"
   ]
  },
  {
   "cell_type": "code",
   "execution_count": 8,
   "id": "3733593c-724f-4b12-9331-02504bf14ef5",
   "metadata": {},
   "outputs": [
    {
     "data": {
      "text/plain": [
       "2"
      ]
     },
     "execution_count": 8,
     "metadata": {},
     "output_type": "execute_result"
    }
   ],
   "source": [
    "#Question 2\n",
    "#variable is a container which used to store the data\n",
    "#for instance\n",
    "a = 2\n",
    "a"
   ]
  },
  {
   "cell_type": "code",
   "execution_count": 9,
   "id": "7360b2ed-fab6-4b62-ad09-ecd20ff1e315",
   "metadata": {},
   "outputs": [],
   "source": [
    "#Question 4\n",
    "#if we want write python script from the command line make sure that the file end with .py \n",
    "#for example\n",
    "#if the file name variable, we have to write it like variable.py\n",
    "#when we open command line first we have to write python and the name of the file in this example the file name variable.py\n",
    "#we write like this python varibale.py\n",
    "#after that we can see what inside our code in the command line"
   ]
  },
  {
   "cell_type": "code",
   "execution_count": 11,
   "id": "872c042a-00c2-4ab0-bdc9-06da1df77956",
   "metadata": {},
   "outputs": [
    {
     "data": {
      "text/plain": [
       "[2, 3]"
      ]
     },
     "execution_count": 11,
     "metadata": {},
     "output_type": "execute_result"
    }
   ],
   "source": [
    "#Question 5\n",
    "my_list = [1, 2, 3, 4, 5]\n",
    "my_list[1:3]"
   ]
  },
  {
   "cell_type": "code",
   "execution_count": 12,
   "id": "7353b621-7785-4ca0-ae23-51b67002e7e3",
   "metadata": {},
   "outputs": [
    {
     "data": {
      "text/plain": [
       "complex"
      ]
     },
     "execution_count": 12,
     "metadata": {},
     "output_type": "execute_result"
    }
   ],
   "source": [
    "#Question 6\n",
    "#comlex number in the mathematic represents like a + bi\n",
    "#where a is a real numbers and b is a imaginary component \n",
    "#it reprents in the py like this\n",
    "complex_number = 4 + 1j\n",
    "type(complex_number)"
   ]
  },
  {
   "cell_type": "code",
   "execution_count": 14,
   "id": "d59cf35b-6bdb-4a8e-8758-045a45e2bf59",
   "metadata": {},
   "outputs": [
    {
     "data": {
      "text/plain": [
       "1.0"
      ]
     },
     "execution_count": 14,
     "metadata": {},
     "output_type": "execute_result"
    }
   ],
   "source": [
    "complex_number.imag"
   ]
  },
  {
   "cell_type": "code",
   "execution_count": 15,
   "id": "522cb401-914e-4378-9422-348ffdef2f74",
   "metadata": {},
   "outputs": [
    {
     "data": {
      "text/plain": [
       "4.0"
      ]
     },
     "execution_count": 15,
     "metadata": {},
     "output_type": "execute_result"
    }
   ],
   "source": [
    "complex_number.real"
   ]
  },
  {
   "cell_type": "code",
   "execution_count": 16,
   "id": "7e21d8fd-9b65-47f9-a10e-3fe1816ae8ed",
   "metadata": {},
   "outputs": [
    {
     "data": {
      "text/plain": [
       "7"
      ]
     },
     "execution_count": 16,
     "metadata": {},
     "output_type": "execute_result"
    }
   ],
   "source": [
    "#Question 7\n",
    "age = 25\n",
    "age"
   ]
  },
  {
   "cell_type": "code",
   "execution_count": 17,
   "id": "c56c7ac1-cfa1-413a-b58d-d1770cb99d9c",
   "metadata": {},
   "outputs": [
    {
     "data": {
      "text/plain": [
       "float"
      ]
     },
     "execution_count": 17,
     "metadata": {},
     "output_type": "execute_result"
    }
   ],
   "source": [
    "#Question 8\n",
    "#it has float data type\n",
    "price = 9.99\n",
    "type(price)"
   ]
  },
  {
   "cell_type": "code",
   "execution_count": 19,
   "id": "083d3102-4c14-436c-a938-47304808dd82",
   "metadata": {},
   "outputs": [
    {
     "name": "stdout",
     "output_type": "stream",
     "text": [
      "yagnik patel\n"
     ]
    }
   ],
   "source": [
    "#Question 9\n",
    "name = 'yagnik patel'\n",
    "print(name)"
   ]
  },
  {
   "cell_type": "code",
   "execution_count": 30,
   "id": "677d8249-3e41-498c-9353-921d536cbadc",
   "metadata": {},
   "outputs": [
    {
     "data": {
      "text/plain": [
       "'world'"
      ]
     },
     "execution_count": 30,
     "metadata": {},
     "output_type": "execute_result"
    }
   ],
   "source": [
    "#Question 10\n",
    "a = 'hello world'\n",
    "a[6:12]"
   ]
  },
  {
   "cell_type": "code",
   "execution_count": null,
   "id": "0575630e-3459-45bf-a75c-639d48b0eb88",
   "metadata": {},
   "outputs": [],
   "source": [
    "#Question 11\n",
    "is_student = True\n"
   ]
  }
 ],
 "metadata": {
  "kernelspec": {
   "display_name": "Python 3 (ipykernel)",
   "language": "python",
   "name": "python3"
  },
  "language_info": {
   "codemirror_mode": {
    "name": "ipython",
    "version": 3
   },
   "file_extension": ".py",
   "mimetype": "text/x-python",
   "name": "python",
   "nbconvert_exporter": "python",
   "pygments_lexer": "ipython3",
   "version": "3.10.8"
  }
 },
 "nbformat": 4,
 "nbformat_minor": 5
}
